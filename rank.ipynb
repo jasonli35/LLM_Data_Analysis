{
 "cells": [
  {
   "cell_type": "code",
   "execution_count": 70,
   "metadata": {},
   "outputs": [],
   "source": [
    "import pandas as pd\n",
    "\n",
    "df = pd.read_json('data_4072.json', orient='records')"
   ]
  },
  {
   "cell_type": "code",
   "execution_count": 71,
   "metadata": {},
   "outputs": [
    {
     "data": {
      "text/plain": [
       "Index(['eval_name', 'Precision', 'Type', 'T', 'Weight type', 'Architecture',\n",
       "       'Model', 'fullname', 'Model sha', 'Average ⬆️', 'Hub License', 'Hub ❤️',\n",
       "       '#Params (B)', 'Available on the hub', 'MoE', 'Flagged',\n",
       "       'Chat Template', 'CO₂ cost (kg)', 'IFEval Raw', 'IFEval', 'BBH Raw',\n",
       "       'BBH', 'MATH Lvl 5 Raw', 'MATH Lvl 5', 'GPQA Raw', 'GPQA', 'MUSR Raw',\n",
       "       'MUSR', 'MMLU-PRO Raw', 'MMLU-PRO', 'Merged', 'Official Providers',\n",
       "       'Upload To Hub Date', 'Submission Date', 'Generation', 'Base Model'],\n",
       "      dtype='object')"
      ]
     },
     "execution_count": 71,
     "metadata": {},
     "output_type": "execute_result"
    }
   ],
   "source": [
    "df.columns"
   ]
  },
  {
   "cell_type": "code",
   "execution_count": 91,
   "metadata": {},
   "outputs": [
    {
     "data": {
      "text/plain": [
       "array(['💬 chat models (RLHF, DPO, IFT, ...)', '🟢 pretrained',\n",
       "       '🔶 fine-tuned on domain-specific datasets',\n",
       "       '🤝 base merges and moerges', '🟩 continuously pretrained',\n",
       "       '🌸 multimodal', '❓ other'], dtype=object)"
      ]
     },
     "execution_count": 91,
     "metadata": {},
     "output_type": "execute_result"
    }
   ],
   "source": [
    "df[\"Type\"].unique()"
   ]
  },
  {
   "cell_type": "code",
   "execution_count": 72,
   "metadata": {},
   "outputs": [],
   "source": [
    "#in df[\"Hub License\"] if it is "
   ]
  },
  {
   "cell_type": "code",
   "execution_count": 122,
   "metadata": {},
   "outputs": [],
   "source": [
    "import math\n",
    "def get_rank(num_criteria = [], weight=0.5, num_top_model=5, str_criteria = []):\n",
    "    \"\"\"\n",
    "    The function will rank the models based on selected criteria. If the criteria is empty, we will take the average of all the metrics.\n",
    "    @param criteria: The metrics that is most important for this specific tasks. If it is None, we will take the average of these matrics.\n",
    "    @param weight: how much weight we can use for these criterias.\n",
    "    @param num_top_model: The number of top models we want to show.\n",
    "    @param str_criteria: The criteria \n",
    "\n",
    "    @return: The rank of the models.\n",
    "    \"\"\"\n",
    "    assert type(num_criteria) == list, \"criteria should be a list\"\n",
    "    # matrices = [\"MMLU-PRO\", \"MUSR\", \"GPQA\", \"MATH Lvl 5\", \"BBH\", \"IFEval\", \"CO₂ cost (kg)\", \"Flagged\", \"MoE\", \"#Params (B)\", \"Hub ❤️\"]\n",
    "    matrices = [\"MMLU-PRO\", \"MUSR\", \"GPQA\", \"MATH Lvl 5\", \"BBH\", \"IFEval\", \"CO₂ cost (kg)\", \"Flagged\", \"MoE\", \"#Params (B)\", \"Hub ❤️\"]\n",
    "    for c in num_criteria:\n",
    "        assert c in matrices, f\"criteria {c} is not allowed. Note that it can only take one of the following values: ['MMLU-PRO', 'MUSR', 'GPQA', 'MATH Lvl 5', 'BBH', 'IFEval', 'CO₂ cost (kg)', 'Flagged', 'MoE', '#Params (B)', 'Hub ❤️']\" \n",
    "    assert type(weight) == float, \"weight should be a float\"\n",
    "    assert 0 <= weight <= 1, \"weight should be between 0 and 1\"\n",
    " \n",
    "    assert type(str_criteria) == list, \"str_criteria should be a list\"\n",
    "    for c in str_criteria:\n",
    "        assert type(c) == tuple, \"Entry of the str_criteria should be a tuple\"\n",
    "        assert c[0] in df.columns, f\"criteria {c[0]} is not allowed. Note that it can only take one of the following values: {df.columns}\"\n",
    "        assert c[1] in df[c[0]].unique(), f\"criteria {c[1]} is not allowed for {c[0]}. Note that it can only take one of the following values: {df[c[0]].unique()}\"\n",
    "\n",
    "    MAX_SCORE = 100\n",
    "    \n",
    "\n",
    "    this_df = df.copy()\n",
    "    this_df[\"new_score\"] = 0    \n",
    "\n",
    "    #add more condition\n",
    "    if len(num_criteria) == 0: \n",
    "        this_df[\"new_score\"] = df[\"Average ⬆️\"]\n",
    "    #add a new column new_score that get the average of the selected criteria in df \n",
    "    else:\n",
    "        \n",
    "        for c in num_criteria:\n",
    "            this_df[\"new_score\"] += this_df[c]\n",
    "        \n",
    "        for s_tuple in str_criteria:\n",
    "        #     if s_tuple[1] == this_df[s_tuple[0]]:\n",
    "        #         this_df[\"str_score\"] += MAX_SCORE\n",
    "            this_df.loc[this_df[s_tuple[0]] == s_tuple[1], \"new_score\"] += MAX_SCORE\n",
    "        this_df[\"new_score\"] = this_df[\"new_score\"] / (len(num_criteria) + len(str_criteria))\n",
    "        this_df[\"new_score\"] = this_df[\"new_score\"] * weight + df[\"Average ⬆️\"] * (1 - weight)\n",
    "\n",
    "    this_df = this_df.sort_values(by=[\"new_score\"], ascending=False)\n",
    "\n",
    "    \n",
    "    return this_df[\"eval_name\"][:num_top_model]\n",
    "\n",
    "\n",
    "\n",
    "\n",
    "\n",
    "    \n",
    "\n",
    "\n",
    "    "
   ]
  },
  {
   "cell_type": "markdown",
   "metadata": {},
   "source": [
    "### Ranking of tech Industry"
   ]
  },
  {
   "cell_type": "code",
   "execution_count": null,
   "metadata": {},
   "outputs": [
    {
     "name": "stdout",
     "output_type": "stream",
     "text": [
      "622     HuggingFaceH4_zephyr-orpo-141b-A35b-v0.1_float16\n",
      "3105      mistralai_Mixtral-8x22B-Instruct-v0.1_bfloat16\n",
      "1958                 alpindale_WizardLM-2-8x22B_bfloat16\n",
      "3099       mistralai_Mistral-Large-Instruct-2411_float16\n",
      "3091       mistral-community_mixtral-8x22B-v0.3_bfloat16\n",
      "Name: eval_name, dtype: object\n"
     ]
    }
   ],
   "source": [
    "#tech industry\n",
    "tech_cri = [\"#Params (B)\"]\n",
    "print(get_rank(tech_cri, weight=0.5, num_top_model=5))"
   ]
  },
  {
   "cell_type": "markdown",
   "metadata": {},
   "source": [
    "### Ranking of legal industry"
   ]
  },
  {
   "cell_type": "code",
   "execution_count": 76,
   "metadata": {},
   "outputs": [
    {
     "name": "stdout",
     "output_type": "stream",
     "text": [
      "1040    MaziyarPanahi_calme-3.2-instruct-78b_bfloat16\n",
      "1036    MaziyarPanahi_calme-3.1-instruct-78b_bfloat16\n",
      "2219          dfurman_CalmeRys-78B-Orpo-v0.1_bfloat16\n",
      "1030         MaziyarPanahi_calme-2.4-rys-78b_bfloat16\n",
      "3267         newsbang_Homer-v1.0-Qwen2.5-72B_bfloat16\n",
      "Name: eval_name, dtype: object\n"
     ]
    }
   ],
   "source": [
    "#Legal industry\n",
    "legal_cri = [\"MMLU-PRO\", ]\n",
    "print(get_rank(legal_cri, weight=0.5, num_top_model=5))"
   ]
  },
  {
   "cell_type": "markdown",
   "metadata": {},
   "source": [
    "### Manufacture"
   ]
  },
  {
   "cell_type": "code",
   "execution_count": 123,
   "metadata": {},
   "outputs": [
    {
     "name": "stdout",
     "output_type": "stream",
     "text": [
      "2250                   dnhkng_RYS-Llama3.1-Large_bfloat16\n",
      "1696    VAGOsolutions_Llama-3.1-SauerkrautLM-70b-Instr...\n",
      "1426                   Sao10K_70B-L3.3-Cirrus-x1_bfloat16\n",
      "218           Daemontatox_Llama3.3-70B-CogniLink_bfloat16\n",
      "3600      rombodawg_Rombos-LLM-V2.6-Nemotron-70b_bfloat16\n",
      "Name: eval_name, dtype: object\n"
     ]
    }
   ],
   "source": [
    "manufac_num_cri = [\"MMLU-PRO\", \"#Params (B)\"]\n",
    "best_architecture_for_manufacturing = \"LlamaForCausalLM\"\n",
    "manu_str_cri = [(\"Architecture\", best_architecture_for_manufacturing), (\"Type\", \"🔶 fine-tuned on domain-specific datasets\")]\n",
    "\n",
    "print(get_rank(manufac_num_cri, weight=0.5, num_top_model=5, str_criteria=manu_str_cri))"
   ]
  }
 ],
 "metadata": {
  "kernelspec": {
   "display_name": "cse151a",
   "language": "python",
   "name": "python3"
  },
  "language_info": {
   "codemirror_mode": {
    "name": "ipython",
    "version": 3
   },
   "file_extension": ".py",
   "mimetype": "text/x-python",
   "name": "python",
   "nbconvert_exporter": "python",
   "pygments_lexer": "ipython3",
   "version": "3.9.18"
  }
 },
 "nbformat": 4,
 "nbformat_minor": 2
}
