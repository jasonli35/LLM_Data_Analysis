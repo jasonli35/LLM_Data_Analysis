{
 "cells": [
  {
   "cell_type": "code",
   "execution_count": 10,
   "metadata": {},
   "outputs": [
    {
     "name": "stderr",
     "output_type": "stream",
     "text": [
      "/Users/jasonli/opt/anaconda3/envs/cse158/lib/python3.9/site-packages/tqdm/auto.py:21: TqdmWarning: IProgress not found. Please update jupyter and ipywidgets. See https://ipywidgets.readthedocs.io/en/stable/user_install.html\n",
      "  from .autonotebook import tqdm as notebook_tqdm\n",
      "Downloading readme: 100%|██████████| 1.63k/1.63k [00:00<00:00, 2.01MB/s]\n",
      "Downloading data: 100%|██████████| 989k/989k [00:00<00:00, 2.39MB/s]\n",
      "Generating train split: 100%|██████████| 4072/4072 [00:00<00:00, 119116.81 examples/s]\n"
     ]
    }
   ],
   "source": [
    "from datasets import load_dataset\n",
    "\n",
    "# Login using e.g. `huggingface-cli login` to access this dataset\n",
    "ds = load_dataset(\"open-llm-leaderboard/contents\")"
   ]
  },
  {
   "cell_type": "code",
   "execution_count": 19,
   "metadata": {},
   "outputs": [],
   "source": [
    "import pandas as pd\n",
    "\n",
    "# Login using e.g. `huggingface-cli login` to access this dataset\n",
    "df = pd.read_parquet(\"hf://datasets/open-llm-leaderboard/contents/data/train-00000-of-00001.parquet\")"
   ]
  },
  {
   "cell_type": "code",
   "execution_count": 43,
   "metadata": {},
   "outputs": [
    {
     "data": {
      "text/plain": [
       "(4072, 36)"
      ]
     },
     "execution_count": 43,
     "metadata": {},
     "output_type": "execute_result"
    }
   ],
   "source": [
    "df.shape"
   ]
  },
  {
   "cell_type": "code",
   "execution_count": 49,
   "metadata": {},
   "outputs": [],
   "source": [
    "df.to_json('data_4072.json', orient='records')"
   ]
  },
  {
   "cell_type": "code",
   "execution_count": 51,
   "metadata": {},
   "outputs": [
    {
     "name": "stdout",
     "output_type": "stream",
     "text": [
      "['eval_name', 'Precision', 'Type', 'T', 'Weight type', 'Architecture', 'Model', 'fullname', 'Model sha', 'Average ⬆️', 'Hub License', 'Hub ❤️', '#Params (B)', 'Available on the hub', 'MoE', 'Flagged', 'Chat Template', 'CO₂ cost (kg)', 'IFEval Raw', 'IFEval', 'BBH Raw', 'BBH', 'MATH Lvl 5 Raw', 'MATH Lvl 5', 'GPQA Raw', 'GPQA', 'MUSR Raw', 'MUSR', 'MMLU-PRO Raw', 'MMLU-PRO', 'Merged', 'Official Providers', 'Upload To Hub Date', 'Submission Date', 'Generation', 'Base Model']\n"
     ]
    }
   ],
   "source": [
    "#load data_4072.json to pandas dataframe\n",
    "df = pd.read_json('data_4072.json', orient='records')\n",
    "#get all column names of panda dataframe\n",
    "columns = df.columns.tolist()\n",
    "# Print all column names\n",
    "print(columns)\n"
   ]
  },
  {
   "cell_type": "code",
   "execution_count": 52,
   "metadata": {},
   "outputs": [],
   "source": [
    "from hypothesis import given, strategies as st, assume\n",
    "@given(st.just(df))  # Use `st.just()` to test the existing DataFrame\n",
    "def test_existing_dataframe_null_values(df):\n",
    "    \"\"\"Check if the existing DataFrame contains None, NaN, or null values.\"\"\"\n",
    "\n",
    "    assume(df is not None)  # Ensure df exists\n",
    "    assert not df.isna().any().any(), \"The DataFrame should contain at least one None/NaN value\"\n",
    "\n",
    "test_existing_dataframe_null_values()"
   ]
  }
 ],
 "metadata": {
  "kernelspec": {
   "display_name": "cse158",
   "language": "python",
   "name": "python3"
  },
  "language_info": {
   "codemirror_mode": {
    "name": "ipython",
    "version": 3
   },
   "file_extension": ".py",
   "mimetype": "text/x-python",
   "name": "python",
   "nbconvert_exporter": "python",
   "pygments_lexer": "ipython3",
   "version": "3.9.18"
  }
 },
 "nbformat": 4,
 "nbformat_minor": 2
}
