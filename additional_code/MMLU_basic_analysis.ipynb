{
 "cells": [
  {
   "cell_type": "code",
   "execution_count": 1,
   "metadata": {},
   "outputs": [],
   "source": [
    "import pandas as pd\n",
    "#load data_4072.json to pandas dataframe\n",
    "df = pd.read_json('data_4072.json', orient='records')\n",
    "#get all column names of panda dataframe\n",
    "columns = df.columns.tolist()\n",
    "\n"
   ]
  },
  {
   "cell_type": "code",
   "execution_count": 2,
   "metadata": {},
   "outputs": [
    {
     "data": {
      "text/plain": [
       "array(['MistralForCausalLM', 'LlamaForCausalLM', 'Qwen2ForCausalLM',\n",
       "       'Gemma2ForCausalLM', 'GPT2LMHeadModel', 'PhiForCausalLM',\n",
       "       'MixtralForCausalLM', 'T5ForConditionalGeneration',\n",
       "       'Phi3ForCausalLM', 'MllamaForConditionalGeneration',\n",
       "       'GlmForCausalLM', 'CohereForCausalLM', 'Cohere2ForCausalLM',\n",
       "       'GemmaForCausalLM', '?', 'DeciLMForCausalLM', 'Unknown',\n",
       "       'GPTJForCausalLM', 'GPTNeoForCausalLM', 'GPTNeoXForCausalLM',\n",
       "       'Qwen2Model', 'ExaoneForCausalLM', 'Qwen2MoeForCausalLM',\n",
       "       'Qwen2VLForConditionalGeneration', 'LlamaForRewardModelWithGating',\n",
       "       'RwkvForCausalLM', 'Gemma2ForSequenceClassification',\n",
       "       'ChatGLMModelM', 'ChatGLMModel', 'JambaForCausalLM',\n",
       "       'LlamaForSequenceClassification', 'OlmoForCausalLM',\n",
       "       'Olmo2ForCausalLM', 'OlmoeForCausalLM', 'OpenLMModel',\n",
       "       'Starcoder2ForCausalLM', 'BloomForCausalLM', 'OPTForCausalLM',\n",
       "       'DbrxForCausalLM', 'DeepseekForCausalLM', 'GemmaModel',\n",
       "       'StableLmForCausalLM', 'InternLM2ForCausalLM',\n",
       "       'MT5ForConditionalGeneration', 'RecurrentGemmaForCausalLM',\n",
       "       'SwitchTransformersForConditionalGeneration',\n",
       "       'UMT5ForConditionalGeneration', 'GraniteForCausalLM',\n",
       "       'GraniteMoeForCausalLM', '', 'NemotronForCausalLM',\n",
       "       'LLMForSequenceRegression', 'HeliumForCausalLM', 'NovaForCausalLM',\n",
       "       'LlamaMedITForCausalLM', 'Phi3SmallForCausalLM', 'MPTForCausalLM',\n",
       "       'Qwen2ForSequenceClassification', 'HymbaForCausalLM',\n",
       "       'AriaForConditionalGeneration', 'FalconMambaForCausalLM',\n",
       "       'FalconForCausalLM', 'SolarForCausalLM'], dtype=object)"
      ]
     },
     "execution_count": 2,
     "metadata": {},
     "output_type": "execute_result"
    }
   ],
   "source": [
    "pd.unique(df['Architecture'])"
   ]
  },
  {
   "cell_type": "code",
   "execution_count": null,
   "metadata": {},
   "outputs": [],
   "source": []
  },
  {
   "cell_type": "code",
   "execution_count": 3,
   "metadata": {},
   "outputs": [
    {
     "data": {
      "text/plain": [
       "0       MistralForCausalLM\n",
       "1         LlamaForCausalLM\n",
       "2         LlamaForCausalLM\n",
       "3         LlamaForCausalLM\n",
       "4         LlamaForCausalLM\n",
       "               ...        \n",
       "4067     Gemma2ForCausalLM\n",
       "4068     Gemma2ForCausalLM\n",
       "4069      Qwen2ForCausalLM\n",
       "4070      Qwen2ForCausalLM\n",
       "4071    MixtralForCausalLM\n",
       "Name: Architecture, Length: 4072, dtype: object"
      ]
     },
     "execution_count": 3,
     "metadata": {},
     "output_type": "execute_result"
    }
   ],
   "source": [
    "#type, Weight type, Architecture, Average ⬆️(?), Hub License, #Params (B)\n",
    "\n",
    "df[\"Architecture\"]"
   ]
  },
  {
   "cell_type": "code",
   "execution_count": 4,
   "metadata": {},
   "outputs": [
    {
     "name": "stdout",
     "output_type": "stream",
     "text": [
      "Architecture\n",
      "LlamaForCausalLM                  1698\n",
      "Qwen2ForCausalLM                  1029\n",
      "MistralForCausalLM                 562\n",
      "Gemma2ForCausalLM                  246\n",
      "MixtralForCausalLM                  76\n",
      "                                  ... \n",
      "OpenLMModel                          1\n",
      "LLMForSequenceRegression             1\n",
      "LlamaForSequenceClassification       1\n",
      "Olmo2ForCausalLM                     1\n",
      "LlamaForRewardModelWithGating        1\n",
      "Length: 63, dtype: int64\n",
      "[1698, 1029, 562, 246, 76, 73, 65, 49, 30, 30, 24, 19, 13, 12, 12, 8, 8, 8, 6, 6, 6, 5, 5, 5, 4, 4, 4, 4, 4, 4, 4, 3, 3, 3, 3, 2, 2, 2, 2, 2, 2, 2, 2, 2, 1, 1, 1, 1, 1, 1, 1, 1, 1, 1, 1, 1, 1, 1, 1, 1, 1, 1, 1]\n"
     ]
    }
   ],
   "source": [
    "\n",
    "#find the average df['MMLU-PRO Raw'] for each unique value in df['Architecture']\n",
    "archi_group = df.groupby('Architecture')\n",
    "archi_mmlu = archi_group['MMLU-PRO'].mean()\n",
    "architecture_frquency = archi_group.size()\n",
    "#count frequency of architecture_frquency\n",
    "architecture_frquency = archi_group.size().sort_values(ascending=False)\n",
    "\n",
    "print(architecture_frquency)\n",
    "print(architecture_frquency.tolist())\n"
   ]
  },
  {
   "cell_type": "markdown",
   "metadata": {},
   "source": [
    "# there are some unpopular model. "
   ]
  },
  {
   "cell_type": "code",
   "execution_count": 5,
   "metadata": {},
   "outputs": [
    {
     "ename": "ModuleNotFoundError",
     "evalue": "No module named 'matplotlib'",
     "output_type": "error",
     "traceback": [
      "\u001b[0;31m---------------------------------------------------------------------------\u001b[0m",
      "\u001b[0;31mModuleNotFoundError\u001b[0m                       Traceback (most recent call last)",
      "Cell \u001b[0;32mIn[5], line 1\u001b[0m\n\u001b[0;32m----> 1\u001b[0m \u001b[38;5;28;01mimport\u001b[39;00m \u001b[38;5;21;01mmatplotlib\u001b[39;00m\u001b[38;5;21;01m.\u001b[39;00m\u001b[38;5;21;01mpyplot\u001b[39;00m \u001b[38;5;28;01mas\u001b[39;00m \u001b[38;5;21;01mplt\u001b[39;00m\n\u001b[1;32m      3\u001b[0m plt\u001b[38;5;241m.\u001b[39mfigure(figsize\u001b[38;5;241m=\u001b[39m(\u001b[38;5;241m12\u001b[39m, \u001b[38;5;241m6\u001b[39m))\n\u001b[1;32m      4\u001b[0m archi_mmlu \u001b[38;5;241m=\u001b[39m archi_mmlu\u001b[38;5;241m.\u001b[39msort_values(ascending\u001b[38;5;241m=\u001b[39m\u001b[38;5;28;01mFalse\u001b[39;00m)\n",
      "\u001b[0;31mModuleNotFoundError\u001b[0m: No module named 'matplotlib'"
     ]
    }
   ],
   "source": [
    "import matplotlib.pyplot as plt\n",
    "\n",
    "plt.figure(figsize=(12, 6))\n",
    "archi_mmlu = archi_mmlu.sort_values(ascending=False)\n",
    "archi_mmlu.plot(kind='bar')\n",
    "plt.title('Average MMLU-PRO Raw by Architecture')\n",
    "plt.xlabel('Architecture')\n",
    "plt.ylabel('Average MMLU-PRO Raw')\n",
    "plt.xticks(rotation=90)\n"
   ]
  },
  {
   "cell_type": "code",
   "execution_count": 90,
   "metadata": {},
   "outputs": [
    {
     "name": "stdout",
     "output_type": "stream",
     "text": [
      "Top 10 Architectures by Average MMLU-PRO Raw:\n",
      "Architecture\n",
      "SolarForCausalLM                   47.482639\n",
      "Qwen2VLForConditionalGeneration    43.400931\n",
      "Phi3SmallForCausalLM               38.871343\n",
      "AriaForConditionalGeneration       37.832447\n",
      "Phi3ForCausalLM                    34.647635\n",
      "Gemma2ForSequenceClassification    34.480275\n",
      "ExaoneForCausalLM                  32.298593\n",
      "Gemma2ForCausalLM                  31.043002\n",
      "DbrxForCausalLM                    29.807550\n",
      "ChatGLMModelM                      29.507425\n",
      "Name: MMLU-PRO, dtype: float64\n"
     ]
    }
   ],
   "source": [
    "#list the top architectures by average MMLU-PRO Raw\n",
    "archi_mmlu = archi_mmlu.sort_values(ascending=False)\n",
    "top_architectures = archi_mmlu.head(10)\n",
    "print(\"Top 10 Architectures by Average MMLU-PRO Raw:\")\n",
    "print(top_architectures)\n",
    "\n"
   ]
  },
  {
   "cell_type": "code",
   "execution_count": 91,
   "metadata": {},
   "outputs": [
    {
     "name": "stdout",
     "output_type": "stream",
     "text": [
      "usage of top architectures by average MMLU-PRO Raw:\n",
      "Architecture\n",
      "SolarForCausalLM                     1\n",
      "Qwen2VLForConditionalGeneration      2\n",
      "Phi3SmallForCausalLM                 2\n",
      "AriaForConditionalGeneration         1\n",
      "Phi3ForCausalLM                     65\n",
      "Gemma2ForSequenceClassification      1\n",
      "ExaoneForCausalLM                    4\n",
      "Gemma2ForCausalLM                  246\n",
      "DbrxForCausalLM                      1\n",
      "ChatGLMModelM                        2\n",
      "dtype: int64\n"
     ]
    }
   ],
   "source": [
    "# architecture_frquency[\"Qwen2VLForConditionalGeneration\"] #2\n",
    "# for one_architecture in top_architectures.keys():\n",
    "#     print(\"architecture name = \", one_architecture, \"..........architecture used = \" ,architecture_frquency[one_architecture])\n",
    "architecture_usage_series = pd.Series(architecture_frquency[top_architectures.index].values, index=top_architectures.index)\n",
    "#add the name of the value colume to the series\n",
    "print(\"usage of top architectures by average MMLU-PRO Raw:\")\n",
    "print(architecture_usage_series)"
   ]
  }
 ],
 "metadata": {
  "kernelspec": {
   "display_name": "cse158",
   "language": "python",
   "name": "python3"
  },
  "language_info": {
   "codemirror_mode": {
    "name": "ipython",
    "version": 3
   },
   "file_extension": ".py",
   "mimetype": "text/x-python",
   "name": "python",
   "nbconvert_exporter": "python",
   "pygments_lexer": "ipython3",
   "version": "3.9.18"
  }
 },
 "nbformat": 4,
 "nbformat_minor": 2
}
